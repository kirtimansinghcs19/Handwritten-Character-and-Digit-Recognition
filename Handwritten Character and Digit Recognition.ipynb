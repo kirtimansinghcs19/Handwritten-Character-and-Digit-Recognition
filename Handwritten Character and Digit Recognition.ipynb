{
 "cells": [
  {
   "cell_type": "markdown",
   "id": "da2b57d7",
   "metadata": {},
   "source": [
    "# Import tensorflow and dataset\n",
    "Using a Convolutional Neural Network that better suited for image processing. CNN's are less sensitive to where in the image the pattern we're looking for with multi-layer percetron."
   ]
  },
  {
   "cell_type": "code",
   "execution_count": 1,
   "id": "7885fca2",
   "metadata": {},
   "outputs": [],
   "source": [
    "import tensorflow"
   ]
  },
  {
   "cell_type": "code",
   "execution_count": 2,
   "id": "6a73eeb9",
   "metadata": {},
   "outputs": [],
   "source": [
    "from tensorflow.keras.datasets import mnist\n",
    "from tensorflow.keras.models import Sequential\n",
    "from tensorflow.keras.layers import Dense, Dropout, Conv2D, MaxPooling2D, Flatten\n",
    "from tensorflow.keras.optimizers import RMSprop"
   ]
  },
  {
   "cell_type": "markdown",
   "id": "42a7ff16",
   "metadata": {},
   "source": [
    "Load up our raw data set."
   ]
  },
  {
   "cell_type": "code",
   "execution_count": 3,
   "id": "b7a67baf",
   "metadata": {},
   "outputs": [
    {
     "name": "stdout",
     "output_type": "stream",
     "text": [
      "Downloading data from https://storage.googleapis.com/tensorflow/tf-keras-datasets/mnist.npz\n",
      "11493376/11490434 [==============================] - 5s 0us/step\n"
     ]
    }
   ],
   "source": [
    "(mnist_train_images, mnist_train_labels), (mnist_test_images, mnist_test_labels) = mnist.load_data() "
   ]
  },
  {
   "cell_type": "code",
   "execution_count": 4,
   "id": "7acfd076",
   "metadata": {},
   "outputs": [],
   "source": [
    "from tensorflow.keras import backend as K\n",
    "if K.image_data_format() == 'channels_first':\n",
    "    train_images = mnist_train_images.reshape(mnist_train_images.shape[0], 1, 28, 28)\n",
    "    test_images = mnist_test_images.reshape(mnist_test_images.shape[0], 1, 28, 28)\n",
    "    input_shape = (1, 28, 28)\n",
    "else:\n",
    "    train_images = mnist_train_images.reshape(mnist_train_images.shape[0], 28, 28, 1)\n",
    "    test_images = mnist_test_images.reshape(mnist_test_images.shape[0], 28, 28, 1)\n",
    "    input_shape = (28, 28, 1)\n",
    "train_images = train_images.astype('float32')\n",
    "test_images = test_images.astype('float32')\n",
    "train_images /= 255\n",
    "test_images /= 255\n",
    "    \n",
    "    "
   ]
  },
  {
   "cell_type": "markdown",
   "id": "9faa5e4a",
   "metadata": {},
   "source": [
    "As before we need to convert our train and test labels to be categorical in one_hot format:"
   ]
  },
  {
   "cell_type": "code",
   "execution_count": 5,
   "id": "39bcb802",
   "metadata": {},
   "outputs": [],
   "source": [
    "train_labels =tensorflow.keras.utils.to_categorical(mnist_train_labels, 10)\n",
    "test_labels =tensorflow.keras.utils.to_categorical(mnist_test_labels, 10)"
   ]
  },
  {
   "cell_type": "markdown",
   "id": "81d91ac6",
   "metadata": {},
   "source": [
    "# Training\n",
    "print out one of the training images with its label:"
   ]
  },
  {
   "cell_type": "code",
   "execution_count": 6,
   "id": "edba39c9",
   "metadata": {},
   "outputs": [],
   "source": [
    "import matplotlib.pyplot as plt"
   ]
  },
  {
   "cell_type": "code",
   "execution_count": 7,
   "id": "d69cc401",
   "metadata": {},
   "outputs": [
    {
     "name": "stdout",
     "output_type": "stream",
     "text": [
      "[0. 0. 0. 1. 0. 0. 0. 0. 0. 0.]\n"
     ]
    },
    {
     "data": {
      "image/png": "[encoded data removed]",
      "text/plain": [
       "<Figure size 432x288 with 1 Axes>"
      ]
     },
     "metadata": {
      "needs_background": "light"
     },
     "output_type": "display_data"
    }
   ],
   "source": [
    "def display_sample(num):\n",
    "    #Print the one-hot array of this sample's label\n",
    "    print(train_labels[num])\n",
    "    #Print the labels converted back to a number\n",
    "    label = train_labels[num].argmax(axis=0)\n",
    "    #Reshape the 786 values to a 28x28 image\n",
    "    image = train_images[num].reshape([28,28])\n",
    "    plt.title('Sample: %d Label: %d' % (num, label))\n",
    "    plt.imshow(image, cmap=plt.get_cmap('gray_r'))\n",
    "    plt.show()\n",
    "display_sample(10000)"
   ]
  },
  {
   "cell_type": "markdown",
   "id": "6888717b",
   "metadata": {},
   "source": [
    "Now for the meat of the problem, Setting up a CNN involves more layers. Not all of these are strictly necessary; we could run without pooling and dropout, but those extra steps help avoid overfitting and helps things run faster.\n",
    "\n",
    "we'll start with a 2D convolution of the image- it's set up to take 32 windows, or filters, of each image, each filter being 3x3 in size.\n",
    "\n",
    "We run a second convolution on top of that with 64 3x3 windows- this topology is just what comes recommended within keras's own example. Again we want to re-use previous research whenever possible while tuning CNN, as is hard to do.\n",
    "\n",
    "Next we Apply MaxPooling2D layer that takes the maximum of each 2x2 result to distill the results down into something more manageable.\n",
    "\n",
    "A dropout filter is then applied to prevent overfitting.\n",
    "\n",
    "Next we Flatten the 2D layer we have at this stage into 1D layer.\n",
    "\n",
    "Then applying dropout again to further prevent overfitting\n",
    "\n",
    "And finally, we feed into our final 10 units where softmax is applied to choose our category of 0-9."
   ]
  },
  {
   "cell_type": "code",
   "execution_count": 14,
   "id": "9b6573a8",
   "metadata": {},
   "outputs": [],
   "source": [
    "model = Sequential()\n",
    "model.add(Conv2D(32, kernel_size =(3, 3),\n",
    "                 activation='relu',\n",
    "                 input_shape=input_shape))\n",
    "# 64  3x3 kernels\n",
    "model.add(Conv2D(64, (3, 3), activation='relu'))\n",
    "# Reduce by taking the maxof each 2x2 block\n",
    "model.add(MaxPooling2D(pool_size=(2,2)))\n",
    "# Dropout to avoid overfitting\n",
    "model.add(Dropout(0.25))\n",
    "# Flatten the results to one dimension for passing into our final layer\n",
    "model.add(Flatten())\n",
    "# A hidden layer to learn with\n",
    "model.add(Dense(128, activation='relu'))\n",
    "# Another dropout\n",
    "model.add(Dropout(0.5))\n",
    "# Final categorization from 0-9 with software\n",
    "model.add(Dense(10, activation='softmax'))"
   ]
  },
  {
   "cell_type": "markdown",
   "id": "c58d98a2",
   "metadata": {},
   "source": [
    "Model Description"
   ]
  },
  {
   "cell_type": "code",
   "execution_count": 15,
   "id": "af466339",
   "metadata": {},
   "outputs": [
    {
     "name": "stdout",
     "output_type": "stream",
     "text": [
      "Model: \"sequential_6\"\n",
      "_________________________________________________________________\n",
      "Layer (type)                 Output Shape              Param #   \n",
      "=================================================================\n",
      "conv2d_6 (Conv2D)            (None, 26, 26, 32)        320       \n",
      "_________________________________________________________________\n",
      "conv2d_7 (Conv2D)            (None, 24, 24, 64)        18496     \n",
      "_________________________________________________________________\n",
      "max_pooling2d_3 (MaxPooling2 (None, 12, 12, 64)        0         \n",
      "_________________________________________________________________\n",
      "dropout_6 (Dropout)          (None, 12, 12, 64)        0         \n",
      "_________________________________________________________________\n",
      "flatten_3 (Flatten)          (None, 9216)              0         \n",
      "_________________________________________________________________\n",
      "dense_6 (Dense)              (None, 128)               1179776   \n",
      "_________________________________________________________________\n",
      "dropout_7 (Dropout)          (None, 128)               0         \n",
      "_________________________________________________________________\n",
      "dense_7 (Dense)              (None, 10)                1290      \n",
      "=================================================================\n",
      "Total params: 1,199,882\n",
      "Trainable params: 1,199,882\n",
      "Non-trainable params: 0\n",
      "_________________________________________________________________\n"
     ]
    }
   ],
   "source": [
    "model.summary()"
   ]
  },
  {
   "cell_type": "markdown",
   "id": "2bae535f",
   "metadata": {},
   "source": [
    "# Testing"
   ]
  },
  {
   "cell_type": "code",
   "execution_count": 16,
   "id": "21086480",
   "metadata": {},
   "outputs": [],
   "source": [
    "model.compile(loss='categorical_crossentropy',\n",
    "             optimizer='adam',\n",
    "             metrics=['accuracy'])"
   ]
  },
  {
   "cell_type": "markdown",
   "id": "1b6fd44c",
   "metadata": {},
   "source": [
    "This takes long time to run, print progress as each epoch is run."
   ]
  },
  {
   "cell_type": "code",
   "execution_count": 17,
   "id": "d904fe6d",
   "metadata": {},
   "outputs": [
    {
     "name": "stdout",
     "output_type": "stream",
     "text": [
      "Epoch 1/10\n",
      "1875/1875 - 65s - loss: 0.1869 - accuracy: 0.9433 - val_loss: 0.0444 - val_accuracy: 0.9850\n",
      "Epoch 2/10\n",
      "1875/1875 - 76s - loss: 0.0789 - accuracy: 0.9767 - val_loss: 0.0423 - val_accuracy: 0.9866\n",
      "Epoch 3/10\n",
      "1875/1875 - 79s - loss: 0.0622 - accuracy: 0.9814 - val_loss: 0.0311 - val_accuracy: 0.9904\n",
      "Epoch 4/10\n",
      "1875/1875 - 78s - loss: 0.0509 - accuracy: 0.9845 - val_loss: 0.0294 - val_accuracy: 0.9907\n",
      "Epoch 5/10\n",
      "1875/1875 - 78s - loss: 0.0435 - accuracy: 0.9865 - val_loss: 0.0298 - val_accuracy: 0.9911\n",
      "Epoch 6/10\n",
      "1875/1875 - 78s - loss: 0.0376 - accuracy: 0.9877 - val_loss: 0.0261 - val_accuracy: 0.9918\n",
      "Epoch 7/10\n",
      "1875/1875 - 79s - loss: 0.0312 - accuracy: 0.9902 - val_loss: 0.0260 - val_accuracy: 0.9916\n",
      "Epoch 8/10\n",
      "1875/1875 - 78s - loss: 0.0280 - accuracy: 0.9908 - val_loss: 0.0241 - val_accuracy: 0.9930\n",
      "Epoch 9/10\n",
      "1875/1875 - 79s - loss: 0.0256 - accuracy: 0.9920 - val_loss: 0.0285 - val_accuracy: 0.9924\n",
      "Epoch 10/10\n",
      "1875/1875 - 79s - loss: 0.0237 - accuracy: 0.9921 - val_loss: 0.0313 - val_accuracy: 0.9920\n"
     ]
    }
   ],
   "source": [
    "history = model.fit(train_images, train_labels,\n",
    "                   batch_size=32,\n",
    "                   epochs=10,\n",
    "                   verbose=2,\n",
    "                   validation_data=(test_images, test_labels))"
   ]
  },
  {
   "cell_type": "markdown",
   "id": "612bd5dc",
   "metadata": {},
   "source": [
    "# Result"
   ]
  },
  {
   "cell_type": "code",
   "execution_count": 19,
   "id": "a3e8b3bd",
   "metadata": {},
   "outputs": [
    {
     "name": "stdout",
     "output_type": "stream",
     "text": [
      "Test loss: 0.031333744525909424\n",
      "Test accuracy: 0.9919999837875366\n"
     ]
    }
   ],
   "source": [
    "score = model.evaluate(test_images, test_labels, verbose=0)\n",
    "print('Test loss:',score[0])\n",
    "print('Test accuracy:', score[1])"
   ]
  },
  {
   "cell_type": "markdown",
   "id": "c79fd56c",
   "metadata": {},
   "source": [
    "It has good accuracy of 99% but in real world it is not worth. If we building something where life and death are on the line like a self-driving car every fraction of percent matters."
   ]
  }
 ],
 "metadata": {
  "kernelspec": {
   "display_name": "Python 3",
   "language": "python",
   "name": "python3"
  },
  "language_info": {
   "codemirror_mode": {
    "name": "ipython",
    "version": 3
   },
   "file_extension": ".py",
   "mimetype": "text/x-python",
   "name": "python",
   "nbconvert_exporter": "python",
   "pygments_lexer": "ipython3",
   "version": "3.8.8"
  }
 },
 "nbformat": 4,
 "nbformat_minor": 5
}
